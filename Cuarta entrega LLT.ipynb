{
 "cells": [
  {
   "cell_type": "markdown",
   "metadata": {},
   "source": [
    "# Cuarta entrega Aerodinámica\n",
    "## Lifting line theory"
   ]
  },
  {
   "cell_type": "markdown",
   "metadata": {},
   "source": [
    "### Datos del ala  \n",
    "$AR = 2.71$  \n",
    "$TR =  0.55$"
   ]
  },
  {
   "cell_type": "code",
   "execution_count": 73,
   "metadata": {},
   "outputs": [
    {
     "name": "stdout",
     "output_type": "stream",
     "text": [
      "S = 0\n",
      "AR =  5.7143\n",
      "TR = 0.5556\n",
      "Alpha 0.1047\n"
     ]
    }
   ],
   "source": [
    "import math\n",
    "#Datos\n",
    "b = 0.40\n",
    "c_root = 0.09\n",
    "c_tip = 0.05\n",
    "S = (b/2)*(c_root+c_tip)\n",
    "AR = ((b)**2)/S\n",
    "TR = c_tip/c_root\n",
    "N = 10\n",
    "alpha = math.radians(6)\n",
    "v_inf = 24.32\n",
    "\n",
    "print(\"S =\" , round(S))\n",
    "print(\"AR = \" , round(AR,4))\n",
    "print(\"TR =\" , round(TR,4))\n",
    "print(\"Alpha\", round(alpha,4))\n",
    "\n"
   ]
  },
  {
   "cell_type": "markdown",
   "metadata": {},
   "source": [
    "### Cálculo y(k)= $-\\frac b2*(1-\\frac {2k -1}{2N})$"
   ]
  },
  {
   "cell_type": "code",
   "execution_count": 74,
   "metadata": {},
   "outputs": [
    {
     "name": "stdout",
     "output_type": "stream",
     "text": [
      "y(k) =  [-0.19, -0.17, -0.15, -0.13, -0.11, -0.09, -0.07, -0.05, -0.03]\n"
     ]
    }
   ],
   "source": [
    "yk = []\n",
    "for k in range(1,N,1):\n",
    "    y_k = (-b/2)*(1-(((2*k)-1)/(2*N)))\n",
    "    yk.append(round(y_k,4))\n",
    "    \n",
    "print(\"y(k) = \", yk)"
   ]
  },
  {
   "cell_type": "markdown",
   "metadata": {},
   "source": [
    "### Cálculo C(k)"
   ]
  },
  {
   "cell_type": "code",
   "execution_count": 75,
   "metadata": {},
   "outputs": [
    {
     "name": "stdout",
     "output_type": "stream",
     "text": [
      "c(k) =  [0.052, 0.056, 0.06, 0.064, 0.068, 0.072, 0.076, 0.08, 0.084]\n"
     ]
    }
   ],
   "source": [
    "ck = []\n",
    "for i in range(len(yk)):\n",
    "    c_k = c_root*(1-(2*((TR-1)/b)*yk[i]))\n",
    "    ck.append(round(c_k,4))\n",
    "    \n",
    "print(\"c(k) = \", ck)"
   ]
  },
  {
   "cell_type": "markdown",
   "metadata": {},
   "source": [
    "### Cálculo $\\theta (k)$"
   ]
  },
  {
   "cell_type": "code",
   "execution_count": 76,
   "metadata": {},
   "outputs": [
    {
     "name": "stdout",
     "output_type": "stream",
     "text": [
      "theta(k) =  [0.3176, 0.5548, 0.7227, 0.8632, 0.9884, 1.104, 1.2132, 1.3181, 1.4202]\n"
     ]
    }
   ],
   "source": [
    "import math \n",
    "thetak = []\n",
    "for i in range(len(yk)):\n",
    "    theta_k = math.acos((-2*yk[i])/b)\n",
    "    thetak.append(round(theta_k,4))\n",
    "    \n",
    "print(\"theta(k) = \", thetak)"
   ]
  },
  {
   "cell_type": "markdown",
   "metadata": {},
   "source": [
    "### Cálculo matriz C(k,n)"
   ]
  },
  {
   "cell_type": "code",
   "execution_count": 77,
   "metadata": {
    "scrolled": false
   },
   "outputs": [
    {
     "name": "stdout",
     "output_type": "stream",
     "text": [
      "2.53\t11.82\t20.9\t21.7\t9.42\t-13.83\t-38.82\t-52.86\t\n",
      "3.4\t10.2\t5.05\t-12.05\t-20.79\t-4.56\t23.41\t29.47\t\n",
      "3.81\t7.26\t-5.37\t-13.95\t3.92\t20.78\t0.71\t-26.6\t\n",
      "4.02\t4.16\t-9.74\t-3.15\t15.76\t-1.3\t-20.55\t8.83\t\n",
      "4.13\t1.29\t-9.48\t7.2\t7.33\t-16.79\t5.39\t16.76\t\n",
      "4.16\t-1.17\t-6.31\t11.29\t-6.66\t-6.5\t17.68\t-15.3\t\n",
      "4.14\t-3.13\t-1.87\t8.69\t-12.92\t10.6\t-1.1\t-11.74\t\n",
      "4.08\t-4.56\t2.52\t2.05\t-8.07\t13.6\t-16.44\t14.88\t\n"
     ]
    }
   ],
   "source": [
    "import math\n",
    "C_kn = []\n",
    "ckn = 0\n",
    "c_filas = []\n",
    "\n",
    "for k in range(8):\n",
    "    c_filas = []\n",
    "    for n in range(1,9,1):\n",
    "        ckn = round(((4*b/(2*math.pi*ck[k]))+(((2*n)-1)/math.sin(thetak[k])))*math.sin(((2*n)-1)*thetak[k]),2)\n",
    "        c_filas.append(ckn)\n",
    "    C_kn.append(c_filas)\n",
    "    \n",
    "for i in C_kn:\n",
    "    for j in i:\n",
    "        print(j, end=\"\\t\")\n",
    "        \n",
    "    print(\"\\n\", end=\"\")\n"
   ]
  },
  {
   "cell_type": "markdown",
   "metadata": {},
   "source": [
    "### $C(k,n)^{-1}$"
   ]
  },
  {
   "cell_type": "code",
   "execution_count": 78,
   "metadata": {},
   "outputs": [
    {
     "name": "stdout",
     "output_type": "stream",
     "text": [
      "[[ 0.01163683  0.01877712  0.00925571  0.10138803 -0.19877514  0.4304307\n",
      "  -0.41635093  0.29850857]\n",
      " [ 0.02191345  0.00673866  0.08842448 -0.16859829  0.33504352 -0.43323307\n",
      "   0.36987464 -0.20839357]\n",
      " [ 0.02085187 -0.0102338   0.04333602 -0.09499855  0.04473916  0.02314475\n",
      "  -0.12294069  0.10459393]\n",
      " [ 0.01624525 -0.03689067  0.07888614 -0.20653049  0.32932699 -0.34655739\n",
      "   0.27910131 -0.11271985]\n",
      " [ 0.00997862 -0.03916356  0.07884378 -0.12965206  0.16978219 -0.10966045\n",
      "  -0.00354209  0.02410981]\n",
      " [ 0.00519157 -0.03149447  0.09146375 -0.17135851  0.24427455 -0.26567572\n",
      "   0.18427522 -0.05691457]\n",
      " [ 0.00187607 -0.01457217  0.05129189 -0.10049957  0.11504109 -0.07384098\n",
      "   0.0219491  -0.00132977]\n",
      " [ 0.00049478 -0.00482251  0.02218615 -0.05965839  0.10014933 -0.10519475\n",
      "   0.06378417 -0.01706638]]\n"
     ]
    }
   ],
   "source": [
    "aux_filas = []\n",
    "inversa_cc = []\n",
    "    \n",
    "from numpy import matrix\n",
    "from scipy import linalg\n",
    "\n",
    "inversa_c = linalg.inv(C_kn)\n",
    "print(inversa_c)"
   ]
  },
  {
   "cell_type": "code",
   "execution_count": 79,
   "metadata": {},
   "outputs": [
    {
     "name": "stdout",
     "output_type": "stream",
     "text": [
      "[0.09634217511965978, 0.09634217511965978, 0.09634217511965978, 0.09634217511965978, 0.09634217511965978, 0.09634217511965978, 0.09634217511965978, 0.09634217511965978]\n"
     ]
    }
   ],
   "source": [
    "d_k = []\n",
    "for i in range(8):\n",
    "    d_k.append(1)\n",
    "    d_k[i]=alpha-0.00837758\n",
    "    \n",
    "print(d_k)"
   ]
  },
  {
   "cell_type": "code",
   "execution_count": 80,
   "metadata": {},
   "outputs": [
    {
     "name": "stdout",
     "output_type": "stream",
     "text": [
      "[ 2.45548152e-02  1.13392944e-03  8.18203010e-04  8.29788675e-05\n",
      "  6.70756959e-05 -2.29470142e-05 -8.12408723e-06 -1.22923782e-05]\n"
     ]
    }
   ],
   "source": [
    "import numpy as np\n",
    "\n",
    "a_n = np.dot(inversa_c,d_k)\n",
    "print(a_n)"
   ]
  },
  {
   "cell_type": "code",
   "execution_count": 81,
   "metadata": {},
   "outputs": [
    {
     "name": "stdout",
     "output_type": "stream",
     "text": [
      "[0.0, 0.0116, 0.0158, 0.0008, -0.0009, 0.0003, -0.0001, -0.0]\n"
     ]
    }
   ],
   "source": [
    "import math\n",
    "circulacion = []\n",
    "\n",
    "for i in range(8):\n",
    "    circ = 2*b*v_inf*a_n[i]*math.sin(i*thetak[i])\n",
    "    circulacion.append(round(circ,4))\n",
    "    \n",
    "print(circulacion)"
   ]
  },
  {
   "cell_type": "markdown",
   "metadata": {},
   "source": [
    "### CL a alpha grados"
   ]
  },
  {
   "cell_type": "code",
   "execution_count": 82,
   "metadata": {},
   "outputs": [
    {
     "name": "stdout",
     "output_type": "stream",
     "text": [
      "0.441\n"
     ]
    }
   ],
   "source": [
    "import math\n",
    "C_L = math.pi*AR*a_n[0]\n",
    "print(round(C_L,3))"
   ]
  },
  {
   "cell_type": "markdown",
   "metadata": {},
   "source": [
    "### Cálculo Cd a alpha grados\n"
   ]
  },
  {
   "cell_type": "code",
   "execution_count": 83,
   "metadata": {},
   "outputs": [
    {
     "name": "stdout",
     "output_type": "stream",
     "text": [
      "0.0022511482031856915\n"
     ]
    }
   ],
   "source": [
    "delta=0\n",
    "for n in range(0,len(a_n),2):\n",
    "    delta += n*((a_n[n]/a_n[0])**2)\n",
    "    \n",
    "print(delta)"
   ]
  },
  {
   "cell_type": "code",
   "execution_count": 84,
   "metadata": {},
   "outputs": [
    {
     "name": "stdout",
     "output_type": "stream",
     "text": [
      "0.0108\n"
     ]
    }
   ],
   "source": [
    "import math\n",
    "e = 1/(1+delta)\n",
    "k = 1/(math.pi*e*AR)\n",
    "C_d = ((C_L)**2)*k\n",
    "print(round(C_d,4))"
   ]
  },
  {
   "cell_type": "code",
   "execution_count": null,
   "metadata": {},
   "outputs": [],
   "source": []
  }
 ],
 "metadata": {
  "kernelspec": {
   "display_name": "Python 3",
   "language": "python",
   "name": "python3"
  },
  "language_info": {
   "codemirror_mode": {
    "name": "ipython",
    "version": 3
   },
   "file_extension": ".py",
   "mimetype": "text/x-python",
   "name": "python",
   "nbconvert_exporter": "python",
   "pygments_lexer": "ipython3",
   "version": "3.8.3"
  }
 },
 "nbformat": 4,
 "nbformat_minor": 4
}
